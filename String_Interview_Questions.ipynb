{
 "cells": [
  {
   "cell_type": "markdown",
   "metadata": {},
   "source": [
    "# String Interview Questions"
   ]
  },
  {
   "cell_type": "markdown",
   "metadata": {},
   "source": [
    "# Reversing a string using the slice operator"
   ]
  },
  {
   "cell_type": "code",
   "execution_count": 1,
   "metadata": {},
   "outputs": [
    {
     "name": "stdout",
     "output_type": "stream",
     "text": [
      "eidde\n"
     ]
    }
   ],
   "source": [
    "s = 'eddie'\n",
    "output = s[::-1]\n",
    "print(output)"
   ]
  },
  {
   "cell_type": "markdown",
   "metadata": {},
   "source": [
    "# Reversing a string using the reverse function"
   ]
  },
  {
   "cell_type": "code",
   "execution_count": 2,
   "metadata": {},
   "outputs": [
    {
     "name": "stdout",
     "output_type": "stream",
     "text": [
      "eidde\n"
     ]
    }
   ],
   "source": [
    "s = 'eddie'\n",
    "r = reversed(s)\n",
    "output = ''.join(r)\n",
    "print(output)"
   ]
  },
  {
   "cell_type": "markdown",
   "metadata": {},
   "source": [
    "# Reversing a string using using a while loop"
   ]
  },
  {
   "cell_type": "code",
   "execution_count": 3,
   "metadata": {},
   "outputs": [
    {
     "name": "stdout",
     "output_type": "stream",
     "text": [
      "eidde\n"
     ]
    }
   ],
   "source": [
    "s = 'eddie'\n",
    "output = ''\n",
    "i = len(s)-1\n",
    "while i >= 0:\n",
    "     output = output + s[i]\n",
    "     i = i-1\n",
    "print(output)"
   ]
  },
  {
   "cell_type": "markdown",
   "metadata": {},
   "source": [
    "# How to reverse the order of words in a string?"
   ]
  },
  {
   "cell_type": "code",
   "execution_count": 4,
   "metadata": {},
   "outputs": [
    {
     "name": "stdout",
     "output_type": "stream",
     "text": [
      "easy is Python\n"
     ]
    }
   ],
   "source": [
    "s = 'Python is easy'\n",
    "l = s.split()\n",
    "l1 = l[::-1]\n",
    "output = ' '.join(l1)\n",
    "print(output)"
   ]
  },
  {
   "cell_type": "markdown",
   "metadata": {},
   "source": [
    "# How to reverse content of each word?"
   ]
  },
  {
   "cell_type": "code",
   "execution_count": 5,
   "metadata": {},
   "outputs": [
    {
     "name": "stdout",
     "output_type": "stream",
     "text": [
      "nohtyP si ysae\n"
     ]
    }
   ],
   "source": [
    "s = 'Python is easy'\n",
    "l = s.split()\n",
    "l1 = []\n",
    "for word in l:\n",
    "    l1.append(word[::-1])\n",
    "output = ' '.join(l1)\n",
    "print(output)    "
   ]
  },
  {
   "cell_type": "markdown",
   "metadata": {},
   "source": [
    "# How to reverse the content of every second word in a given string?"
   ]
  },
  {
   "cell_type": "code",
   "execution_count": 6,
   "metadata": {},
   "outputs": [
    {
     "name": "stdout",
     "output_type": "stream",
     "text": [
      "one owt three ruof five xis\n"
     ]
    }
   ],
   "source": [
    "s = 'one two three four five six'\n",
    "l = s.split()\n",
    "i = 0\n",
    "l1 = []\n",
    "while i < len(l):\n",
    "    if i%2 == 0:\n",
    "        l1.append(l[i])\n",
    "    else:\n",
    "        l1.append(l[i][::-1])\n",
    "    i = i+1\n",
    "    output = ' '.join(l1)\n",
    "print(output)"
   ]
  },
  {
   "cell_type": "markdown",
   "metadata": {},
   "source": [
    "# Print the characters present at even and odd index seperately for a given string"
   ]
  },
  {
   "cell_type": "code",
   "execution_count": 7,
   "metadata": {},
   "outputs": [
    {
     "name": "stdout",
     "output_type": "stream",
     "text": [
      "Characters present at even index\n",
      "a\n",
      "c\n",
      "e\n",
      "g\n",
      "Characters present at odd index\n",
      "b\n",
      "d\n",
      "f\n",
      "h\n"
     ]
    }
   ],
   "source": [
    "s = 'abcdefgh'\n",
    "print('Characters present at even index')\n",
    "i = 0\n",
    "while i < len(s):\n",
    "    print(s[i])\n",
    "    i = i+2\n",
    "print('Characters present at odd index')\n",
    "i = 1\n",
    "while i < len(s):\n",
    "    print(s[i])\n",
    "    i= i+2"
   ]
  },
  {
   "cell_type": "code",
   "execution_count": 8,
   "metadata": {},
   "outputs": [
    {
     "name": "stdout",
     "output_type": "stream",
     "text": [
      "Characters present at even index aceg\n",
      "Characters present at odd index bdfh\n"
     ]
    }
   ],
   "source": [
    "s = 'abcdefgh'\n",
    "print('Characters present at even index',s[0::2])\n",
    "\n",
    "print('Characters present at odd index', s[1::2])\n"
   ]
  },
  {
   "cell_type": "markdown",
   "metadata": {},
   "source": [
    "# Sorting characters first by alphabet, then digits"
   ]
  },
  {
   "cell_type": "code",
   "execution_count": 9,
   "metadata": {},
   "outputs": [
    {
     "name": "stdout",
     "output_type": "stream",
     "text": [
      "ABD134\n"
     ]
    }
   ],
   "source": [
    "s = 'B4A1D3'\n",
    "alphabets = []\n",
    "digits = []\n",
    "for i in s:\n",
    "    if i.isalpha():\n",
    "        alphabets.append(i)\n",
    "    else:\n",
    "        digits.append(i)\n",
    "output = ''.join(sorted(alphabets) + sorted(digits))\n",
    "print(output)"
   ]
  },
  {
   "cell_type": "code",
   "execution_count": 10,
   "metadata": {},
   "outputs": [
    {
     "name": "stdout",
     "output_type": "stream",
     "text": [
      "ABD134\n"
     ]
    }
   ],
   "source": [
    "s = 'B4A1D3'\n",
    "alphabets = ''\n",
    "digits = ''\n",
    "for i in s:\n",
    "    if i.isalpha():\n",
    "        alphabets += i\n",
    "    else:\n",
    "        digits += i\n",
    "output = ''\n",
    "for i in sorted(alphabets):\n",
    "    output += i\n",
    "for i in sorted(digits):\n",
    "    output += i\n",
    "print(output)\n"
   ]
  },
  {
   "cell_type": "code",
   "execution_count": 11,
   "metadata": {},
   "outputs": [
    {
     "name": "stdout",
     "output_type": "stream",
     "text": [
      "ABD134\n"
     ]
    }
   ],
   "source": [
    "s = 'B4A1D3'\n",
    "alphabets = ''\n",
    "digits = ''\n",
    "for i in s:\n",
    "    if i.isalpha():\n",
    "        alphabets += i\n",
    "    else:\n",
    "        digits += i\n",
    "output = ''.join(sorted(alphabets) + sorted(digits))\n",
    "print(output)"
   ]
  },
  {
   "cell_type": "markdown",
   "metadata": {},
   "source": [
    "# Write a program for the following requirement\n",
    "## input = a4b3c2\n",
    "## output = aaaabbbcc"
   ]
  },
  {
   "cell_type": "code",
   "execution_count": 12,
   "metadata": {},
   "outputs": [
    {
     "name": "stdout",
     "output_type": "stream",
     "text": [
      "aaaabbbcc\n"
     ]
    }
   ],
   "source": [
    "s = 'a4b3c2'\n",
    "output = ''\n",
    "for i in s:\n",
    "    if i.isalpha():\n",
    "        x = i\n",
    "    else:\n",
    "        d = int(i)\n",
    "        output += x*d\n",
    "print(output)"
   ]
  },
  {
   "cell_type": "markdown",
   "metadata": {},
   "source": [
    "# Write a program for the following requirement\n",
    "## input = a4z3c2\n",
    "## output = aaaacczzz (sorted)"
   ]
  },
  {
   "cell_type": "code",
   "execution_count": 13,
   "metadata": {},
   "outputs": [
    {
     "name": "stdout",
     "output_type": "stream",
     "text": [
      "aaaacczzz\n"
     ]
    }
   ],
   "source": [
    "s = 'a4z3c2'\n",
    "output = ''\n",
    "for i in s:\n",
    "    if i.isalpha():\n",
    "        x = i\n",
    "    else:\n",
    "        d = int(i)\n",
    "        output += x*d\n",
    "print(''.join(sorted(output)))"
   ]
  },
  {
   "cell_type": "markdown",
   "metadata": {},
   "source": [
    "# Write a program for the following requirement\n",
    "## input = aaaabbbccz\n",
    "## output = 4a3b2c1z"
   ]
  },
  {
   "cell_type": "code",
   "execution_count": 14,
   "metadata": {},
   "outputs": [
    {
     "name": "stdout",
     "output_type": "stream",
     "text": [
      "4a3b2c1z\n"
     ]
    }
   ],
   "source": [
    "s = 'aaaabbbccz'\n",
    "output = ''\n",
    "previous = s[0]\n",
    "i = 1 \n",
    "c = 1\n",
    "while i < len(s):\n",
    "    if s[i] == previous:\n",
    "        c = c + 1\n",
    "    else:\n",
    "        output += str(c) + previous\n",
    "        previous = s[i]\n",
    "        c = 1\n",
    "    if  i == len(s) - 1:\n",
    "        output += str(c) + previous\n",
    "    i +=1\n",
    "print(output)\n",
    "        "
   ]
  },
  {
   "cell_type": "markdown",
   "metadata": {},
   "source": [
    " # Write a program for the following requirement\n",
    "## input = a4k3b2\n",
    "## output = aeknbd"
   ]
  },
  {
   "cell_type": "code",
   "execution_count": 15,
   "metadata": {},
   "outputs": [
    {
     "name": "stdout",
     "output_type": "stream",
     "text": [
      "aeknbd\n"
     ]
    }
   ],
   "source": [
    "s = 'a4k3b2'\n",
    "output = ''\n",
    "for i in s:\n",
    "    if i.isalpha():\n",
    "        x = i\n",
    "        output += i\n",
    "    else:\n",
    "        d = int(i)\n",
    "        newchar = chr(ord(x)+d)\n",
    "        output += newchar\n",
    "print(output)"
   ]
  },
  {
   "cell_type": "markdown",
   "metadata": {},
   "source": [
    "# Remove Duplicate Characters from a given string"
   ]
  },
  {
   "cell_type": "code",
   "execution_count": 16,
   "metadata": {},
   "outputs": [
    {
     "name": "stdout",
     "output_type": "stream",
     "text": [
      "ABC\n"
     ]
    }
   ],
   "source": [
    "s = 'AAAABBBCC'\n",
    "output = ''\n",
    "for i in s:\n",
    "    if i not in output:\n",
    "        output += i\n",
    "print(output)"
   ]
  },
  {
   "cell_type": "code",
   "execution_count": 17,
   "metadata": {},
   "outputs": [
    {
     "name": "stdout",
     "output_type": "stream",
     "text": [
      "ABC\n"
     ]
    }
   ],
   "source": [
    "s = 'AAAABBBCC'\n",
    "l = []\n",
    "for i in s:\n",
    "    if i not in l:\n",
    "        l.append(i)\n",
    "output = ''.join(l)\n",
    "print(output)"
   ]
  },
  {
   "cell_type": "code",
   "execution_count": 18,
   "metadata": {},
   "outputs": [
    {
     "name": "stdout",
     "output_type": "stream",
     "text": [
      "CAB\n"
     ]
    }
   ],
   "source": [
    "s = 'AAAABBBCC'\n",
    "unique = set(s)\n",
    "output = ''.join(unique)\n",
    "print(output)"
   ]
  },
  {
   "cell_type": "code",
   "execution_count": 19,
   "metadata": {},
   "outputs": [],
   "source": [
    "def remove_duplicates(input_list):\n",
    "    l = []\n",
    "    for i in input_list:\n",
    "        if i not in l:\n",
    "            l.append(i)\n",
    "    return l"
   ]
  },
  {
   "cell_type": "markdown",
   "metadata": {},
   "source": [
    "# Find the number of each occurence in a given string with count()"
   ]
  },
  {
   "cell_type": "code",
   "execution_count": 20,
   "metadata": {},
   "outputs": [
    {
     "name": "stdout",
     "output_type": "stream",
     "text": [
      "A occurs 4 times\n",
      "B occurs 3 times\n",
      "C occurs 2 times\n",
      "Z occurs 5 times\n"
     ]
    }
   ],
   "source": [
    "s = 'ZZZZZAAAABBBCC'\n",
    "l = []\n",
    "for i in s:\n",
    "    if i not in l:\n",
    "        l.append(i)\n",
    "for i in sorted(l):\n",
    "        print('{} occurs {} times'.format(i, s.count(i)))"
   ]
  },
  {
   "cell_type": "code",
   "execution_count": 21,
   "metadata": {},
   "outputs": [
    {
     "name": "stdout",
     "output_type": "stream",
     "text": [
      "A occurs 4 times\n",
      "B occurs 3 times\n",
      "C occurs 2 times\n",
      "Z occurs 5 times\n"
     ]
    }
   ],
   "source": [
    "s = 'ZZZZZAAAABBBCC'\n",
    "s1 = set(s)\n",
    "for i in sorted(s1):\n",
    "    print('{} occurs {} times'.format(i, s.count(i)))"
   ]
  },
  {
   "cell_type": "markdown",
   "metadata": {},
   "source": [
    "# Find the number of each occurence in a given string without count()"
   ]
  },
  {
   "cell_type": "code",
   "execution_count": 22,
   "metadata": {},
   "outputs": [
    {
     "name": "stdout",
     "output_type": "stream",
     "text": [
      "Z Occurs 5 times\n",
      "A Occurs 4 times\n",
      "B Occurs 3 times\n",
      "C Occurs 2 times\n"
     ]
    }
   ],
   "source": [
    "s = 'ZZZZZAAAABBBCC'\n",
    "d = {}\n",
    "for i in s:\n",
    "    d[i] = d.get(i,0)+1\n",
    "for k,v in d.items():\n",
    "    print('{} Occurs {} times'.format(k,v))"
   ]
  },
  {
   "cell_type": "markdown",
   "metadata": {},
   "source": [
    "# Write a program for the following requirement\n",
    "## input = ABAABBCA\n",
    "## output = 4A3B1C"
   ]
  },
  {
   "cell_type": "code",
   "execution_count": 23,
   "metadata": {},
   "outputs": [
    {
     "name": "stdout",
     "output_type": "stream",
     "text": [
      "4A3B1C\n"
     ]
    }
   ],
   "source": [
    "s = 'ABAABBCA'\n",
    "d = {}\n",
    "for i in s:\n",
    "    d[i] = d.get(i,0)+1\n",
    "output = ''\n",
    "for k,v in d.items():\n",
    "    output += str(v)+k\n",
    "print(output)"
   ]
  },
  {
   "cell_type": "markdown",
   "metadata": {},
   "source": [
    "# Write a program for the following requirement\n",
    "## input = ABAABBCA\n",
    "## output = A4B3C1"
   ]
  },
  {
   "cell_type": "code",
   "execution_count": 24,
   "metadata": {},
   "outputs": [
    {
     "name": "stdout",
     "output_type": "stream",
     "text": [
      "Z5A4B3C2\n"
     ]
    }
   ],
   "source": [
    "s = 'ZZZZZAAAABBBCC'\n",
    "d = {}\n",
    "for i in s:\n",
    "    d[i] = d.get(i,0)+1\n",
    "output = ''\n",
    "for k,v in d.items():\n",
    "    output += k+str(v)\n",
    "print(output)"
   ]
  },
  {
   "cell_type": "markdown",
   "metadata": {},
   "source": [
    "# Find the number of occurences of each vowel in a given string"
   ]
  },
  {
   "cell_type": "code",
   "execution_count": 25,
   "metadata": {},
   "outputs": [
    {
     "name": "stdout",
     "output_type": "stream",
     "text": [
      "i occurs 1 times\n",
      "I occurs 2 times\n",
      "o occurs 2 times\n",
      "e occurs 1 times\n"
     ]
    }
   ],
   "source": [
    "s = 'ThisIsHowWeDoIt'\n",
    "v = ['a', 'e', 'i', 'o', 'u', 'A', 'E', 'I', 'O', 'U']\n",
    "d = {}\n",
    "for i in s:\n",
    "    if i in v:\n",
    "        d[i] = d.get(i,0)+1\n",
    "for k,v in d.items():\n",
    "    print('{} occurs {} times'.format(k,v))"
   ]
  },
  {
   "cell_type": "markdown",
   "metadata": {},
   "source": [
    "# Determine if two strings are anagrams or not"
   ]
  },
  {
   "cell_type": "code",
   "execution_count": 26,
   "metadata": {},
   "outputs": [
    {
     "name": "stdout",
     "output_type": "stream",
     "text": [
      "These strings are anagrams.\n"
     ]
    }
   ],
   "source": [
    "s1 = 'triangle'\n",
    "s2 = 'integral'\n",
    "if sorted(s1) == sorted(s2):\n",
    "    print('These strings are anagrams.')\n",
    "else:\n",
    "    print('These strings are not anagrams.')"
   ]
  },
  {
   "cell_type": "markdown",
   "metadata": {},
   "source": [
    "# Determine if the given string is a palindrome"
   ]
  },
  {
   "cell_type": "code",
   "execution_count": 27,
   "metadata": {},
   "outputs": [
    {
     "name": "stdout",
     "output_type": "stream",
     "text": [
      "Palindrome\n"
     ]
    }
   ],
   "source": [
    "s = 'level'\n",
    "if s == s[::-1]:\n",
    "    print('Palindrome')\n",
    "else:\n",
    "    print('Not palindrome')"
   ]
  },
  {
   "cell_type": "markdown",
   "metadata": {},
   "source": [
    "# Generate words of a given string by taking characters alternatively\n",
    "# inputs\n",
    "# s1 = abcdefg\n",
    "# s2 = xyz\n",
    "# s3 = 12345\n",
    "# output = ax1, by2, cz3, d4, e5, f, g"
   ]
  },
  {
   "cell_type": "code",
   "execution_count": 28,
   "metadata": {},
   "outputs": [
    {
     "name": "stdout",
     "output_type": "stream",
     "text": [
      "ax1\n",
      "by2\n",
      "cz3\n",
      "d4\n",
      "e5\n",
      "f\n",
      "g\n"
     ]
    }
   ],
   "source": [
    "s1 = 'abcdefg'\n",
    "s2 = 'xyz'\n",
    "s3 = '12345'\n",
    "i = j = k = 0\n",
    "while i < len(s1) or j < len(s2) or k < len(s3):\n",
    "    output = ''\n",
    "    if i < len(s1):\n",
    "        output += s1[i]\n",
    "        i+=1\n",
    "    if j < len(s2):\n",
    "        output += s2[j]\n",
    "        j+=1\n",
    "    if k < len(s3):\n",
    "        output += s3[k]\n",
    "        k+=1\n",
    "    print(output)"
   ]
  }
 ],
 "metadata": {
  "kernelspec": {
   "display_name": "Python 3",
   "language": "python",
   "name": "python3"
  },
  "language_info": {
   "codemirror_mode": {
    "name": "ipython",
    "version": 3
   },
   "file_extension": ".py",
   "mimetype": "text/x-python",
   "name": "python",
   "nbconvert_exporter": "python",
   "pygments_lexer": "ipython3",
   "version": "3.7.6"
  }
 },
 "nbformat": 4,
 "nbformat_minor": 4
}
